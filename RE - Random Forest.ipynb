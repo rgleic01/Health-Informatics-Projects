{
 "cells": [
  {
   "cell_type": "code",
   "execution_count": 2,
   "metadata": {},
   "outputs": [
    {
     "name": "stderr",
     "output_type": "stream",
     "text": [
      "/Users/robgleich/.local/lib/python3.7/site-packages/statsmodels/tools/_testing.py:19: FutureWarning: pandas.util.testing is deprecated. Use the functions in the public API at pandas.testing instead.\n",
      "  import pandas.util.testing as tm\n"
     ]
    },
    {
     "name": "stdout",
     "output_type": "stream",
     "text": [
      "remaining counties:  1312\n",
      "final dataset dimensions:  (1142, 56)\n"
     ]
    }
   ],
   "source": [
    "#import libraries for reading data and EDA\n",
    "import numpy as np\n",
    "import pandas as pd\n",
    "import matplotlib.pyplot as plt\n",
    "import seaborn as sns\n",
    "\n",
    "import warnings\n",
    "warnings.simplefilter(action='ignore', category=FutureWarning)\n",
    "\n",
    "chr_19 = pd.read_csv(\"analytic_data2019.csv\", low_memory=False)\n",
    "\n",
    "#drop second row of variable names\n",
    "chr_19 = chr_19.drop([0])\n",
    "\n",
    "# drop all metrics (numerator, denominator, and confidence interval) except raw values \n",
    "for i, col in enumerate(chr_19.columns):\n",
    "    if i < 7: pass\n",
    "    elif col[-5:] != 'value':\n",
    "        chr_19 = chr_19.drop(columns = col)\n",
    "\n",
    "# drop and rename location columns\n",
    "chr_19 = chr_19.drop(columns = ['State FIPS Code', 'County FIPS Code', 'County Ranked (Yes=1/No=0)'])\n",
    "chr_19 = chr_19.rename(columns={\"5-digit FIPS Code\": \"fips\", \"Name\": \"county\", \"Release Year\": \"year\"})\n",
    "\n",
    "# remove the text 'raw values' from column names to make more readable\n",
    "for col in chr_19:\n",
    "    if col[-5:] == 'value':\n",
    "        chr_19 = chr_19.rename(columns={col: col[:-10]})\n",
    "\n",
    "# only keep rows that include infant mortality \n",
    "chr_19 = chr_19[chr_19['Infant mortality'].isna() == False]\n",
    "\n",
    "# print ratio of NA's in each column\n",
    "#for col in chr_19.columns: print(col + \": \" + str(chr_19[col].isna().sum() / len(chr_19[col])))\n",
    "    \n",
    "#drop variables with > 10% NaN\n",
    "chr_19 = chr_19.loc[:, :'% Rural']\n",
    "chr_19 = chr_19.drop(['Homicides', \n",
    "                      'Disconnected youth',\n",
    "                      'Drinking water violations',\n",
    "                      'Drug overdose deaths'], axis=1)\n",
    "\n",
    "chr_19 = chr_19.drop(['fips', 'State Abbreviation', 'county', 'year'], axis=1)\n",
    "\n",
    "chr_19 = chr_19.astype(float)\n",
    "\n",
    "#drop redundant variables\n",
    "chr_19 = chr_19.drop(['Uninsured adults', \n",
    "                     'Premature death', \n",
    "                     'Premature age-adjusted mortality', \n",
    "                     'Frequent mental distress', \n",
    "                     'Poor or fair health', \n",
    "                     'Frequent physical distress', \n",
    "                     'Food insecurity', \n",
    "                     'Poor mental health days', \n",
    "                     'Child mortality', \n",
    "                     'Children in poverty', \n",
    "                     '% not proficient in English', \n",
    "                     'Severe housing problems'], axis=1)\n",
    "\n",
    "print(\"remaining counties: \", len(chr_19))\n",
    "# drop \n",
    "chr_19 = chr_19.dropna()\n",
    "print(\"final dataset dimensions: \", chr_19.shape)\n",
    "\n",
    "#chr_19.to_csv('chr_2019_im.csv')"
   ]
  },
  {
   "cell_type": "code",
   "execution_count": 3,
   "metadata": {},
   "outputs": [
    {
     "name": "stdout",
     "output_type": "stream",
     "text": [
      "Accuracy: 0.57 (+/- 0.20)\n"
     ]
    }
   ],
   "source": [
    "from sklearn import ensemble\n",
    "from sklearn.model_selection import cross_val_score\n",
    "from sklearn.preprocessing import StandardScaler\n",
    "\n",
    "y = chr_19['Infant mortality']\n",
    "X = chr_19.drop(['Infant mortality'], axis=1)\n",
    "# X = StandardScaler().fit_transform(X)\n",
    "\n",
    "\n",
    "rfc = ensemble.RandomForestRegressor()\n",
    "forest_scores = cross_val_score(rfc, X, y, cv=10)\n",
    "print(\"Accuracy: %0.2f (+/- %0.2f)\" % (forest_scores.mean(), forest_scores.std() * 2))\n"
   ]
  },
  {
   "cell_type": "code",
   "execution_count": 6,
   "metadata": {},
   "outputs": [
    {
     "name": "stdout",
     "output_type": "stream",
     "text": [
      "Feature ranking:\n",
      "1. feature 29 (0.155751)\n",
      "2. feature 1 (0.109721)\n",
      "3. feature 22 (0.075388)\n",
      "4. feature 47 (0.051563)\n",
      "5. feature 30 (0.050607)\n",
      "6. feature 2 (0.049114)\n",
      "7. feature 23 (0.042136)\n",
      "8. feature 37 (0.036617)\n",
      "9. feature 5 (0.032487)\n",
      "10. feature 10 (0.022080)\n",
      "11. feature 3 (0.021078)\n",
      "12. feature 38 (0.013937)\n",
      "13. feature 53 (0.013385)\n",
      "14. feature 51 (0.013217)\n",
      "15. feature 54 (0.012177)\n",
      "16. feature 6 (0.011007)\n",
      "17. feature 7 (0.010953)\n",
      "18. feature 43 (0.010725)\n",
      "19. feature 33 (0.010503)\n",
      "20. feature 4 (0.010229)\n",
      "21. feature 25 (0.008930)\n",
      "22. feature 44 (0.008742)\n",
      "23. feature 52 (0.008706)\n",
      "24. feature 41 (0.008700)\n",
      "25. feature 46 (0.008668)\n",
      "26. feature 0 (0.008496)\n",
      "27. feature 9 (0.008168)\n",
      "28. feature 8 (0.008156)\n",
      "29. feature 32 (0.008080)\n",
      "30. feature 19 (0.008008)\n",
      "31. feature 17 (0.007863)\n",
      "32. feature 21 (0.007832)\n",
      "33. feature 39 (0.007680)\n",
      "34. feature 13 (0.007244)\n",
      "35. feature 16 (0.007014)\n",
      "36. feature 20 (0.006978)\n",
      "37. feature 15 (0.006920)\n",
      "38. feature 45 (0.006899)\n",
      "39. feature 40 (0.006873)\n",
      "40. feature 35 (0.006853)\n",
      "41. feature 49 (0.006849)\n",
      "42. feature 42 (0.006754)\n",
      "43. feature 34 (0.006734)\n",
      "44. feature 26 (0.006628)\n",
      "45. feature 24 (0.006331)\n",
      "46. feature 18 (0.006271)\n",
      "47. feature 28 (0.006057)\n",
      "48. feature 27 (0.006019)\n",
      "49. feature 48 (0.005979)\n",
      "50. feature 11 (0.005960)\n",
      "51. feature 31 (0.005718)\n",
      "52. feature 14 (0.005640)\n",
      "53. feature 12 (0.005303)\n",
      "54. feature 36 (0.005290)\n",
      "55. feature 50 (0.004984)\n"
     ]
    }
   ],
   "source": [
    "#from sklearn.datasets import make_classification\n",
    "from sklearn.ensemble import ExtraTreesRegressor\n",
    "\n",
    "# Build a forest and compute the feature importances\n",
    "forest = ExtraTreesRegressor(n_estimators=250,\n",
    "                              random_state=0)\n",
    "\n",
    "forest.fit(X, y)\n",
    "importances = forest.feature_importances_\n",
    "std = np.std([tree.feature_importances_ for tree in forest.estimators_],\n",
    "             axis=0)\n",
    "indices = np.argsort(importances)[::-1]\n",
    "\n",
    "# Print the feature ranking\n",
    "print(\"Feature ranking:\")\n",
    "\n",
    "for f in range(X.shape[1]):\n",
    "    print(\"%d. feature %d (%f)\" % (f + 1, indices[f], importances[indices[f]]))\n"
   ]
  },
  {
   "cell_type": "code",
   "execution_count": 7,
   "metadata": {},
   "outputs": [
    {
     "data": {
      "image/png": "[encoded data removed]",
      "text/plain": [
       "<Figure size 1440x720 with 1 Axes>"
      ]
     },
     "metadata": {
      "needs_background": "light"
     },
     "output_type": "display_data"
    }
   ],
   "source": [
    "# Plot the feature importances of the forest\n",
    "plt.figure(figsize=(20,10))\n",
    "plt.title(\"Feature importances\")\n",
    "plt.bar(range(X.shape[1]), importances[indices],\n",
    "       color=\"r\", yerr=std[indices], align=\"center\")\n",
    "plt.xticks(range(X.shape[1]), indices, rotation=90)\n",
    "plt.xlim([-1, X.shape[1]])\n",
    "plt.show()"
   ]
  },
  {
   "cell_type": "code",
   "execution_count": null,
   "metadata": {},
   "outputs": [],
   "source": []
  }
 ],
 "metadata": {
  "kernelspec": {
   "display_name": "Python 3",
   "language": "python",
   "name": "python3"
  },
  "language_info": {
   "codemirror_mode": {
    "name": "ipython",
    "version": 3
   },
   "file_extension": ".py",
   "mimetype": "text/x-python",
   "name": "python",
   "nbconvert_exporter": "python",
   "pygments_lexer": "ipython3",
   "version": "3.7.2"
  }
 },
 "nbformat": 4,
 "nbformat_minor": 2
}
