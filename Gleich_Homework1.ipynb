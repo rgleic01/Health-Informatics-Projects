{
 "cells": [
  {
   "cell_type": "markdown",
   "metadata": {},
   "source": [
    "# Using Country-Level Statistics to Predict Covid-19 Death Count\n",
    "\n",
    "\n",
    "This project uses the August 9th data from Our World in Data (OWID) Covid-19 dataset (source: https://github.com/owid/covid-19-data/tree/master/public/data) to create a model that predicts the number of total Covid deaths per million using variables such as population density, GDP per capita, and diabetes prevalence by country. \n",
    "\n",
    "Let's start with EDA and pre-processing. "
   ]
  },
  {
   "cell_type": "code",
   "execution_count": 264,
   "metadata": {},
   "outputs": [],
   "source": [
    "#Import libraries\n",
    "import pandas as pd\n",
    "import numpy as np\n",
    "from matplotlib import pyplot\n",
    "from sklearn.model_selection import train_test_split\n",
    "from sklearn import preprocessing\n",
    "from sklearn.linear_model import LinearRegression\n",
    "from sklearn import metrics\n",
    "import statsmodels.api as sm\n",
    "from scipy import stats\n",
    "from sklearn.preprocessing import PolynomialFeatures\n",
    "from sklearn.metrics import mean_squared_error, r2_score"
   ]
  },
  {
   "cell_type": "code",
   "execution_count": 265,
   "metadata": {},
   "outputs": [
    {
     "name": "stdout",
     "output_type": "stream",
     "text": [
      "number of countries included: 209\n",
      "Dataset dimensions: (35717, 36)\n"
     ]
    },
    {
     "data": {
      "text/html": [
       "<div>\n",
       "<style scoped>\n",
       "    .dataframe tbody tr th:only-of-type {\n",
       "        vertical-align: middle;\n",
       "    }\n",
       "\n",
       "    .dataframe tbody tr th {\n",
       "        vertical-align: top;\n",
       "    }\n",
       "\n",
       "    .dataframe thead th {\n",
       "        text-align: right;\n",
       "    }\n",
       "</style>\n",
       "<table border=\"1\" class=\"dataframe\">\n",
       "  <thead>\n",
       "    <tr style=\"text-align: right;\">\n",
       "      <th></th>\n",
       "      <th>iso_code</th>\n",
       "      <th>continent</th>\n",
       "      <th>location</th>\n",
       "      <th>date</th>\n",
       "      <th>total_cases</th>\n",
       "      <th>new_cases</th>\n",
       "      <th>total_deaths</th>\n",
       "      <th>new_deaths</th>\n",
       "      <th>total_cases_per_million</th>\n",
       "      <th>new_cases_per_million</th>\n",
       "      <th>...</th>\n",
       "      <th>aged_70_older</th>\n",
       "      <th>gdp_per_capita</th>\n",
       "      <th>extreme_poverty</th>\n",
       "      <th>cardiovasc_death_rate</th>\n",
       "      <th>diabetes_prevalence</th>\n",
       "      <th>female_smokers</th>\n",
       "      <th>male_smokers</th>\n",
       "      <th>handwashing_facilities</th>\n",
       "      <th>hospital_beds_per_thousand</th>\n",
       "      <th>life_expectancy</th>\n",
       "    </tr>\n",
       "  </thead>\n",
       "  <tbody>\n",
       "    <tr>\n",
       "      <th>0</th>\n",
       "      <td>AFG</td>\n",
       "      <td>Asia</td>\n",
       "      <td>Afghanistan</td>\n",
       "      <td>2019-12-31</td>\n",
       "      <td>0.0</td>\n",
       "      <td>0.0</td>\n",
       "      <td>0.0</td>\n",
       "      <td>0.0</td>\n",
       "      <td>0.0</td>\n",
       "      <td>0.0</td>\n",
       "      <td>...</td>\n",
       "      <td>1.337</td>\n",
       "      <td>1803.987</td>\n",
       "      <td>NaN</td>\n",
       "      <td>597.029</td>\n",
       "      <td>9.59</td>\n",
       "      <td>NaN</td>\n",
       "      <td>NaN</td>\n",
       "      <td>37.746</td>\n",
       "      <td>0.5</td>\n",
       "      <td>64.83</td>\n",
       "    </tr>\n",
       "    <tr>\n",
       "      <th>1</th>\n",
       "      <td>AFG</td>\n",
       "      <td>Asia</td>\n",
       "      <td>Afghanistan</td>\n",
       "      <td>2020-01-01</td>\n",
       "      <td>0.0</td>\n",
       "      <td>0.0</td>\n",
       "      <td>0.0</td>\n",
       "      <td>0.0</td>\n",
       "      <td>0.0</td>\n",
       "      <td>0.0</td>\n",
       "      <td>...</td>\n",
       "      <td>1.337</td>\n",
       "      <td>1803.987</td>\n",
       "      <td>NaN</td>\n",
       "      <td>597.029</td>\n",
       "      <td>9.59</td>\n",
       "      <td>NaN</td>\n",
       "      <td>NaN</td>\n",
       "      <td>37.746</td>\n",
       "      <td>0.5</td>\n",
       "      <td>64.83</td>\n",
       "    </tr>\n",
       "    <tr>\n",
       "      <th>2</th>\n",
       "      <td>AFG</td>\n",
       "      <td>Asia</td>\n",
       "      <td>Afghanistan</td>\n",
       "      <td>2020-01-02</td>\n",
       "      <td>0.0</td>\n",
       "      <td>0.0</td>\n",
       "      <td>0.0</td>\n",
       "      <td>0.0</td>\n",
       "      <td>0.0</td>\n",
       "      <td>0.0</td>\n",
       "      <td>...</td>\n",
       "      <td>1.337</td>\n",
       "      <td>1803.987</td>\n",
       "      <td>NaN</td>\n",
       "      <td>597.029</td>\n",
       "      <td>9.59</td>\n",
       "      <td>NaN</td>\n",
       "      <td>NaN</td>\n",
       "      <td>37.746</td>\n",
       "      <td>0.5</td>\n",
       "      <td>64.83</td>\n",
       "    </tr>\n",
       "    <tr>\n",
       "      <th>3</th>\n",
       "      <td>AFG</td>\n",
       "      <td>Asia</td>\n",
       "      <td>Afghanistan</td>\n",
       "      <td>2020-01-03</td>\n",
       "      <td>0.0</td>\n",
       "      <td>0.0</td>\n",
       "      <td>0.0</td>\n",
       "      <td>0.0</td>\n",
       "      <td>0.0</td>\n",
       "      <td>0.0</td>\n",
       "      <td>...</td>\n",
       "      <td>1.337</td>\n",
       "      <td>1803.987</td>\n",
       "      <td>NaN</td>\n",
       "      <td>597.029</td>\n",
       "      <td>9.59</td>\n",
       "      <td>NaN</td>\n",
       "      <td>NaN</td>\n",
       "      <td>37.746</td>\n",
       "      <td>0.5</td>\n",
       "      <td>64.83</td>\n",
       "    </tr>\n",
       "    <tr>\n",
       "      <th>4</th>\n",
       "      <td>AFG</td>\n",
       "      <td>Asia</td>\n",
       "      <td>Afghanistan</td>\n",
       "      <td>2020-01-04</td>\n",
       "      <td>0.0</td>\n",
       "      <td>0.0</td>\n",
       "      <td>0.0</td>\n",
       "      <td>0.0</td>\n",
       "      <td>0.0</td>\n",
       "      <td>0.0</td>\n",
       "      <td>...</td>\n",
       "      <td>1.337</td>\n",
       "      <td>1803.987</td>\n",
       "      <td>NaN</td>\n",
       "      <td>597.029</td>\n",
       "      <td>9.59</td>\n",
       "      <td>NaN</td>\n",
       "      <td>NaN</td>\n",
       "      <td>37.746</td>\n",
       "      <td>0.5</td>\n",
       "      <td>64.83</td>\n",
       "    </tr>\n",
       "  </tbody>\n",
       "</table>\n",
       "<p>5 rows × 36 columns</p>\n",
       "</div>"
      ],
      "text/plain": [
       "  iso_code continent     location        date  total_cases  new_cases  \\\n",
       "0      AFG      Asia  Afghanistan  2019-12-31          0.0        0.0   \n",
       "1      AFG      Asia  Afghanistan  2020-01-01          0.0        0.0   \n",
       "2      AFG      Asia  Afghanistan  2020-01-02          0.0        0.0   \n",
       "3      AFG      Asia  Afghanistan  2020-01-03          0.0        0.0   \n",
       "4      AFG      Asia  Afghanistan  2020-01-04          0.0        0.0   \n",
       "\n",
       "   total_deaths  new_deaths  total_cases_per_million  new_cases_per_million  \\\n",
       "0           0.0         0.0                      0.0                    0.0   \n",
       "1           0.0         0.0                      0.0                    0.0   \n",
       "2           0.0         0.0                      0.0                    0.0   \n",
       "3           0.0         0.0                      0.0                    0.0   \n",
       "4           0.0         0.0                      0.0                    0.0   \n",
       "\n",
       "   ...  aged_70_older  gdp_per_capita  extreme_poverty  cardiovasc_death_rate  \\\n",
       "0  ...          1.337        1803.987              NaN                597.029   \n",
       "1  ...          1.337        1803.987              NaN                597.029   \n",
       "2  ...          1.337        1803.987              NaN                597.029   \n",
       "3  ...          1.337        1803.987              NaN                597.029   \n",
       "4  ...          1.337        1803.987              NaN                597.029   \n",
       "\n",
       "   diabetes_prevalence  female_smokers  male_smokers  handwashing_facilities  \\\n",
       "0                 9.59             NaN           NaN                  37.746   \n",
       "1                 9.59             NaN           NaN                  37.746   \n",
       "2                 9.59             NaN           NaN                  37.746   \n",
       "3                 9.59             NaN           NaN                  37.746   \n",
       "4                 9.59             NaN           NaN                  37.746   \n",
       "\n",
       "   hospital_beds_per_thousand  life_expectancy  \n",
       "0                         0.5            64.83  \n",
       "1                         0.5            64.83  \n",
       "2                         0.5            64.83  \n",
       "3                         0.5            64.83  \n",
       "4                         0.5            64.83  \n",
       "\n",
       "[5 rows x 36 columns]"
      ]
     },
     "execution_count": 265,
     "metadata": {},
     "output_type": "execute_result"
    }
   ],
   "source": [
    "# Read dataset from Our World in Data and take a look\n",
    "owid_df = pd.read_csv(\"owid-covid-data.csv\")\n",
    "print(\"number of countries included: \" + str(countries_df['location'].nunique()))\n",
    "print(\"Dataset dimensions: \" + str(owid_df.shape))\n",
    "owid_df.head()"
   ]
  },
  {
   "cell_type": "markdown",
   "metadata": {},
   "source": [
    "*1. Load your data set. State in one or two sentences what the inclusion and exclusion criteria were for this data set, e.g. from which geographic location and which time period the data were drawn and whether individuals with certain characteristics were deliberately excluded or oversampled.*\n",
    "\n",
    "Each row in this dataset represents a day's measurement in a particular country of new Covid cases and deaths since the beginning of the pandemic, and includes various country statistics such as life expectancy, hospital beds per thousand, and cardiovascular death rate. This dataset perforce reflects the biases and deficits in each country's Covid data reporting.\n",
    "\n",
    "Now I'll do some preprocessing and feature engineering to create the final working dataset. "
   ]
  },
  {
   "cell_type": "code",
   "execution_count": 266,
   "metadata": {},
   "outputs": [
    {
     "name": "stdout",
     "output_type": "stream",
     "text": [
      "Number of NaNs per column: \n",
      "location                        0\n",
      "population_density             11\n",
      "median_age                     24\n",
      "gdp_per_capita                 27\n",
      "extreme_poverty                88\n",
      "diabetes_prevalence            17\n",
      "smokers                        71\n",
      "handwashing_facilities        117\n",
      "hospital_beds_per_thousand     45\n",
      "life_expectancy                 3\n",
      "total_deaths_per_million        0\n",
      "dtype: int64\n"
     ]
    }
   ],
   "source": [
    "# some preprocessing, keep relevant columns\n",
    "countries_df = owid_df.loc[owid_df['date'] == '2020-08-09']\n",
    "countries_df['smokers'] = (countries_df['female_smokers'] + countries_df['male_smokers']) / 2\n",
    "\n",
    "countries_df = countries_df[['location', 'population_density', 'median_age', 'gdp_per_capita', \n",
    "                        'extreme_poverty', 'diabetes_prevalence', 'smokers', \n",
    "                        'handwashing_facilities', 'hospital_beds_per_thousand', \n",
    "                        'life_expectancy', 'total_deaths_per_million']]\n",
    "\n",
    "# find columns with most NaNs\n",
    "print(\"Number of NaNs per column: \")\n",
    "print(countries_df.isna().sum())"
   ]
  },
  {
   "cell_type": "code",
   "execution_count": 267,
   "metadata": {},
   "outputs": [
    {
     "name": "stdout",
     "output_type": "stream",
     "text": [
      "dataset dimensions: (156, 7)\n"
     ]
    }
   ],
   "source": [
    "#drop columns with most NaNs\n",
    "covid_df = countries_df.drop(['extreme_poverty', \n",
    "                              'handwashing_facilities', \n",
    "                              'smokers'], axis=1)\n",
    "\n",
    "# drop any countries with any remaining NaNs\n",
    "covid_df = covid_df.dropna(axis='rows')\n",
    "\n",
    "# reset index as country name\n",
    "covid_df = covid_df.set_index('location')\n",
    "\n",
    "# print final dataframe dimensions\n",
    "print(\"dataset dimensions: \" + str(covid_df.shape))"
   ]
  },
  {
   "cell_type": "markdown",
   "metadata": {},
   "source": [
    "Although I had to discard 53 of 209 countries because they didn't have enough data, I still have 156 countries in my dataset. \n",
    "\n",
    "*2. Divide your data set into two random subsamples of (nearly) equal size. Declare one subsample the training set and the other the test set.*"
   ]
  },
  {
   "cell_type": "code",
   "execution_count": 268,
   "metadata": {},
   "outputs": [],
   "source": [
    "#Set X and y, split data into training and test set\n",
    "X = covid_df.drop(['total_deaths_per_million'], axis=1)\n",
    "y = covid_df['total_deaths_per_million']\n",
    "\n",
    "X_train, X_test, y_train, y_test = train_test_split(X, y, test_size = 0.5, random_state = 0)"
   ]
  },
  {
   "cell_type": "markdown",
   "metadata": {},
   "source": [
    "*3. Define the prediction problem. Say which variable is the response and which variables are the predictors. State in which unit each variable is measured, e.g. “life expectancy (years)”. State briefly (one or two sentences) why you think a predictive model outperforms or complements human expertise.*\n",
    "\n",
    "The response variable is Covid deaths per million population as of today (August 9th), and the features are:\n",
    "\n",
    "<ol>\n",
    "<li>Population density (people per km^2)</li>\n",
    "<li>Median Age (years)</li>\n",
    "<li>GDP Per Capita (USD)</li>\n",
    "<li>GDP Per Capita (USD)</li>\n",
    "<li>Diabetes Prevalence (% of population aged 20 to 79)</li>\n",
    "<li>Hospital Beds per Thousand People</li>\n",
    "<li>Life Expectancy (years)</li>\n",
    "</ol>\n",
    "\n",
    "This model outperforms human expertise because it can fully process the 156 x 7 matrix. Humans wouldn't be able to extract meaningful observations from a dataset this size without sophisticated visualization techniques. \n",
    "\n",
    "*4. For the training set and the test set separately, compute summary statistics (minimum, mean, median, maximum, standard deviation) of the response variable.*"
   ]
  },
  {
   "cell_type": "code",
   "execution_count": 269,
   "metadata": {},
   "outputs": [
    {
     "name": "stdout",
     "output_type": "stream",
     "text": [
      "Y Training Set Summary Stats:\n",
      "count     78.000000\n",
      "mean     108.501615\n",
      "std      171.391292\n",
      "min        0.000000\n",
      "25%        7.909000\n",
      "50%       37.284500\n",
      "75%      110.683500\n",
      "max      851.624000\n",
      "Name: total_deaths_per_million, dtype: float64\n",
      "\n",
      "Y Test Set Summary Stats:\n",
      "count     78.000000\n",
      "mean      72.119718\n",
      "std      127.281590\n",
      "min        0.000000\n",
      "25%        3.962000\n",
      "50%       18.679500\n",
      "75%       68.581000\n",
      "max      632.176000\n",
      "Name: total_deaths_per_million, dtype: float64\n"
     ]
    },
    {
     "data": {
      "image/png": "[encoded data removed]",
      "text/plain": [
       "<Figure size 432x288 with 1 Axes>"
      ]
     },
     "metadata": {
      "needs_background": "light"
     },
     "output_type": "display_data"
    }
   ],
   "source": [
    "print(\"Y Training Set Summary Stats:\")\n",
    "print(y_train.describe())\n",
    "print(\"\\nY Test Set Summary Stats:\")\n",
    "print(y_test.describe())\n",
    "\n",
    "#plot training vs. test set response variables\n",
    "bins = np.linspace(0, 500, 30)\n",
    "pyplot.title(\"Training vs. Test Sets Deaths per Million\")\n",
    "pyplot.hist(y_train, bins, alpha=0.5, label='training')\n",
    "pyplot.hist(y_test, bins, alpha=0.5, label='test')\n",
    "pyplot.legend(loc='upper right')\n",
    "pyplot.show()"
   ]
  },
  {
   "cell_type": "markdown",
   "metadata": {},
   "source": [
    "*5. For the training set and the test set separately, report summary statistics (minimum, mean, median, maximum, standard deviation) for all the predictors.*"
   ]
  },
  {
   "cell_type": "code",
   "execution_count": 270,
   "metadata": {},
   "outputs": [
    {
     "name": "stdout",
     "output_type": "stream",
     "text": [
      "Training Set population_density Stats:\n",
      "count      78.000000\n",
      "mean      236.412564\n",
      "std       900.226857\n",
      "min         3.202000\n",
      "25%        26.538250\n",
      "50%        76.762000\n",
      "75%       207.139250\n",
      "max      7915.731000\n",
      "Name: population_density, dtype: float64\n",
      "\n",
      "Test Set population_density Stats:\n",
      "count      78.000000\n",
      "mean      170.804154\n",
      "std       284.768987\n",
      "min         1.980000\n",
      "25%        45.465500\n",
      "50%        87.650500\n",
      "75%       187.597750\n",
      "max      1935.907000\n",
      "Name: population_density, dtype: float64\n",
      "-------------------------------------------------\n",
      "\n",
      "Training Set median_age Stats:\n",
      "count    78.000000\n",
      "mean     33.278205\n",
      "std       9.019541\n",
      "min      15.100000\n",
      "25%      27.350000\n",
      "50%      33.650000\n",
      "75%      41.150000\n",
      "max      48.200000\n",
      "Name: median_age, dtype: float64\n",
      "\n",
      "Test Set median_age Stats:\n",
      "count    78.000000\n",
      "mean     29.328205\n",
      "std       8.056133\n",
      "min      16.400000\n",
      "25%      23.050000\n",
      "50%      29.100000\n",
      "75%      34.700000\n",
      "max      44.400000\n",
      "Name: median_age, dtype: float64\n",
      "-------------------------------------------------\n",
      "\n",
      "Training Set gdp_per_capita Stats:\n",
      "count        78.000000\n",
      "mean      23883.826487\n",
      "std       22772.557109\n",
      "min         702.225000\n",
      "25%        7841.869750\n",
      "50%       17429.788500\n",
      "75%       32304.639500\n",
      "max      116935.600000\n",
      "Name: gdp_per_capita, dtype: float64\n",
      "\n",
      "Test Set gdp_per_capita Stats:\n",
      "count       78.000000\n",
      "mean     16009.291590\n",
      "std      15735.575927\n",
      "min        661.240000\n",
      "25%       4665.023250\n",
      "50%      10788.221500\n",
      "75%      22520.414000\n",
      "max      71809.251000\n",
      "Name: gdp_per_capita, dtype: float64\n",
      "-------------------------------------------------\n",
      "\n",
      "Training Set diabetes_prevalence Stats:\n",
      "count    78.000000\n",
      "mean      7.820385\n",
      "std       3.595122\n",
      "min       1.910000\n",
      "25%       5.505000\n",
      "50%       7.110000\n",
      "75%       9.825000\n",
      "max      17.720000\n",
      "Name: diabetes_prevalence, dtype: float64\n",
      "\n",
      "Test Set diabetes_prevalence Stats:\n",
      "count    78.000000\n",
      "mean      7.920128\n",
      "std       3.987940\n",
      "min       0.990000\n",
      "25%       5.305000\n",
      "50%       7.125000\n",
      "75%      10.155000\n",
      "max      22.020000\n",
      "Name: diabetes_prevalence, dtype: float64\n",
      "-------------------------------------------------\n",
      "\n",
      "Training Set hospital_beds_per_thousand Stats:\n",
      "count    78.000000\n",
      "mean      3.370000\n",
      "std       2.351971\n",
      "min       0.100000\n",
      "25%       1.525000\n",
      "50%       2.895000\n",
      "75%       4.507500\n",
      "max      13.050000\n",
      "Name: hospital_beds_per_thousand, dtype: float64\n",
      "\n",
      "Test Set hospital_beds_per_thousand Stats:\n",
      "count    78.000000\n",
      "mean      2.528923\n",
      "std       2.296986\n",
      "min       0.300000\n",
      "25%       1.025000\n",
      "50%       1.755000\n",
      "75%       3.235000\n",
      "max      12.270000\n",
      "Name: hospital_beds_per_thousand, dtype: float64\n",
      "-------------------------------------------------\n",
      "\n",
      "Training Set life_expectancy Stats:\n",
      "count    78.000000\n",
      "mean     75.111923\n",
      "std       6.405663\n",
      "min      59.310000\n",
      "25%      72.145000\n",
      "50%      75.645000\n",
      "75%      80.267500\n",
      "max      84.630000\n",
      "Name: life_expectancy, dtype: float64\n",
      "\n",
      "Test Set life_expectancy Stats:\n",
      "count    78.000000\n",
      "mean     72.041538\n",
      "std       6.687272\n",
      "min      53.280000\n",
      "25%      67.312500\n",
      "50%      73.160000\n",
      "75%      76.880000\n",
      "max      83.030000\n",
      "Name: life_expectancy, dtype: float64\n",
      "-------------------------------------------------\n",
      "\n"
     ]
    }
   ],
   "source": [
    "# print summary statistics for the features' training and test sets\n",
    "for col in X.columns:\n",
    "    print('Training Set ' + str(col) + ' Stats:')\n",
    "    print(X_train[col].describe())\n",
    "    print('\\nTest Set ' + str(col) + ' Stats:')\n",
    "    print(X_test[col].describe())\n",
    "    print('-------------------------------------------------\\n')"
   ]
  },
  {
   "cell_type": "markdown",
   "metadata": {},
   "source": [
    "*5. (cont'd) Describe in one or two sentences how similar the summary statistics for a given predictor in the training and testing data are. Which predictors exhibit a lot of variation (and thus might be more predictive), which very little?*\n",
    "\n",
    "I'll compare the average values for each of the training and test set by printing a ratio of the means and seeing how much it deviates from 1. "
   ]
  },
  {
   "cell_type": "code",
   "execution_count": 271,
   "metadata": {},
   "outputs": [
    {
     "name": "stdout",
     "output_type": "stream",
     "text": [
      "difference in population_density = 1.384\n",
      "difference in median_age = 1.134\n",
      "difference in gdp_per_capita = 1.491\n",
      "difference in diabetes_prevalence = 0.987\n",
      "difference in hospital_beds_per_thousand = 1.332\n",
      "difference in life_expectancy = 1.042\n"
     ]
    }
   ],
   "source": [
    "# compare means for each feature\n",
    "for col in X.columns:\n",
    "    var = X_train[col].mean() / X_test[col].mean()\n",
    "    print(\"difference in \" + str(col) + \" = \"+ str(var)[:5])"
   ]
  },
  {
   "cell_type": "markdown",
   "metadata": {},
   "source": [
    "Population density and GDP per capita vary the most, with 33% and 12% differences in mean values. The rest are within one percent of each other. \n",
    "\n",
    "### Normalizing the data\n",
    "\n",
    "The above histogram of deaths per million reveals a highly skewed response variable. And since the scales of the features vary widely (eg GDP per capita @ 10E+5 vs. beds per thousand @ 10E-1), I'll normalize the data. "
   ]
  },
  {
   "cell_type": "code",
   "execution_count": 275,
   "metadata": {},
   "outputs": [
    {
     "data": {
      "image/png": "[encoded data removed]",
      "text/plain": [
       "<Figure size 432x288 with 1 Axes>"
      ]
     },
     "metadata": {
      "needs_background": "light"
     },
     "output_type": "display_data"
    }
   ],
   "source": [
    "#Normalize the dataframe\n",
    "normal_df = (covid_df - covid_df.mean()) / covid_df.std()\n",
    "\n",
    "#reset and resplit X and y\n",
    "X = normal_df.drop(['total_deaths_per_million'], axis=1)\n",
    "y = normal_df['total_deaths_per_million']\n",
    "X_train, X_test, y_train, y_test = train_test_split(X, y, test_size = 0.5, random_state = 0)\n",
    "\n",
    "#Histogram of the response variable \n",
    "bins = np.linspace(-1, 1, 30)\n",
    "pyplot.title(\"Normalized Training vs. Test Sets Deaths per Million\")\n",
    "pyplot.hist(y_train, bins, alpha=0.5, label='training')\n",
    "pyplot.hist(y_test, bins, alpha=0.5, label='test')\n",
    "pyplot.show()"
   ]
  },
  {
   "cell_type": "markdown",
   "metadata": {},
   "source": [
    "*6. Declare your prediction problem to be either a regression problem or a classification problem*\n",
    "\n",
    "Regression\n",
    "\n",
    "*7. Fit at least three distinct linear regression models to the training data. All three models should differ along a single well-defined measure of flexibility.*\n",
    "\n",
    "(see below)\n",
    "\n",
    "\n",
    "*8. Compute the predictive performance of each model based on the training set and the test set.*"
   ]
  },
  {
   "cell_type": "code",
   "execution_count": 283,
   "metadata": {},
   "outputs": [],
   "source": [
    "# Function for fitting polynomnial model of specified degree to training data \n",
    "# and printing RMSE and r-squared for both training and test data\n",
    "def create_poly_model(degree):\n",
    "    poly_features = PolynomialFeatures(degree=degree)\n",
    "    \n",
    "    #transform and fit features\n",
    "    X_train_poly = poly_features.fit_transform(X_train)\n",
    "    poly_model = LinearRegression()\n",
    "    poly_model.fit(X_train_poly, y_train)\n",
    "    \n",
    "    # Run model on both training and test data to see bias/variance tradeoff\n",
    "    y_train_predicted = poly_model.predict(X_train_poly)\n",
    "    y_test_predict = poly_model.predict(poly_features.fit_transform(X_test))\n",
    "    \n",
    "    # generate results\n",
    "    rmse_train = np.sqrt(mean_squared_error(y_train, y_train_predicted))\n",
    "    r2_train = r2_score(y_train, y_train_predicted)\n",
    "    rmse_test = np.sqrt(mean_squared_error(y_test, y_test_predict))\n",
    "    r2_test = r2_score(y_test, y_test_predict)\n",
    "    print(\"Degree of the polynomial: {}\".format(degree))\n",
    "    print(\"RMSE of training set is {}\".format(rmse_train))\n",
    "    print(\"R2 score of training set is {}\".format(r2_train))\n",
    "    print(\"RMSE of test set is {}\".format(rmse_test))\n",
    "    print(\"R2 score of test set is {}\".format(r2_test))\n",
    "    print(\"-------------------------------------------\")\n",
    "    print(\"\\n\")\n",
    "    return(poly_model)"
   ]
  },
  {
   "cell_type": "code",
   "execution_count": 274,
   "metadata": {},
   "outputs": [
    {
     "name": "stdout",
     "output_type": "stream",
     "text": [
      "Degree of the polynomial: 1\n",
      "RMSE of training set is 0.9738869676547446\n",
      "R2 score of training set is 0.24859058932288136\n",
      "RMSE of test set is 0.7860453690904289\n",
      "R2 score of test set is 0.1124331543376329\n",
      "-------------------------------------------\n",
      "\n",
      "\n",
      "Degree of the polynomial: 2\n",
      "RMSE of training set is 0.816959682902715\n",
      "R2 score of training set is 0.471237349945297\n",
      "RMSE of test set is 1.8760924047029401\n",
      "R2 score of test set is -4.056084165002524\n",
      "-------------------------------------------\n",
      "\n",
      "\n",
      "Degree of the polynomial: 3\n",
      "RMSE of training set is 6.177578874265135e-13\n",
      "R2 score of training set is 1.0\n",
      "RMSE of test set is 90.02919663151353\n",
      "R2 score of test set is -11642.206333096592\n",
      "-------------------------------------------\n",
      "\n",
      "\n"
     ]
    }
   ],
   "source": [
    "# Generate 3 models of 1st, 2nd, and 3rd degree polynomials\n",
    "for degree in range(1, 4):\n",
    "    create_poly_model(degree)"
   ]
  },
  {
   "cell_type": "markdown",
   "metadata": {},
   "source": [
    "*9. Which of the models that you fitted in step 7 would you retain? Justify your choice.*\n",
    "\n",
    "<br>Model 1, which only includes linear terms of the predictor, performed the best, with an test set RMSE of 0.78 and an r-squared of 0.11. This low r-squared value means that even my best model barely outperforms random chance. I'll investigate this a bit in the postmortem. \n",
    "\n",
    "You can also see that the model very quickly overfits the data as you increase the degree of the polynomial. Model 3 almost perfectly fits the training set but misses the test set by about a billion miles.\n",
    "\n",
    "## Postmortem\n",
    "An r-squared of 0.11 is still atrocious, so I'm curious to take a peek at the 6 variables individually. First I'll  visualize the relation between the response and each individual feature. I'll print a scatter plot for each displaying feature vs. response (training *and* test data) and showing the r-squared and trendline for the test model. "
   ]
  },
  {
   "cell_type": "code",
   "execution_count": null,
   "metadata": {},
   "outputs": [],
   "source": [
    "#function that plots for each variable:\n",
    "#Scatter plot of each feature vs. response (training AND test data) and\n",
    "#trendline and r-squared for TEST model\n",
    "\n",
    "def scatter_plot(variable, i):\n",
    "    regressor = LinearRegression()  \n",
    "    regressor.fit(X_train[[variable]], y_train)\n",
    "    y_pred = regressor.predict(X_test[[variable]])\n",
    "    plt.subplot(2,3,i)\n",
    "    plt.scatter(normal_df[variable], normal_df['total_deaths_per_million'])\n",
    "    plt.plot(X_test[[variable]], y_pred, color='blue', linewidth=3)\n",
    "    plt.title(variable + ' r-squared = '+ str(r2_score(y_test, y_pred))[:5])"
   ]
  },
  {
   "cell_type": "code",
   "execution_count": 279,
   "metadata": {
    "scrolled": true
   },
   "outputs": [
    {
     "data": {
      "image/png": "[encoded data removed]",
      "text/plain": [
       "<Figure size 1800x720 with 6 Axes>"
      ]
     },
     "metadata": {
      "needs_background": "light"
     },
     "output_type": "display_data"
    }
   ],
   "source": [
    "# plot each feature vs total deaths per million\n",
    "plt.figure(figsize=(25,10))\n",
    "for col, i in zip((X.columns), range(1,7)):\n",
    "    scatter_plot(col, i)"
   ]
  },
  {
   "cell_type": "markdown",
   "metadata": {},
   "source": [
    "Hm, looks like none of the variables have a strong r-squared value. Some of them perform even worse than a straight horizontal trendline (negative r-squared). But high-variability datasets can represent a trend even if they have a low r-squared. I'll check out the model 1 summary next:"
   ]
  },
  {
   "cell_type": "code",
   "execution_count": 287,
   "metadata": {},
   "outputs": [
    {
     "name": "stdout",
     "output_type": "stream",
     "text": [
      "                               OLS Regression Results                               \n",
      "====================================================================================\n",
      "Dep. Variable:     total_deaths_per_million   R-squared:                       0.273\n",
      "Model:                                  OLS   Adj. R-squared:                  0.211\n",
      "Method:                       Least Squares   F-statistic:                     4.433\n",
      "Date:                      Sun, 09 Aug 2020   Prob (F-statistic):           0.000730\n",
      "Time:                              13:06:37   Log-Likelihood:                -100.21\n",
      "No. Observations:                        78   AIC:                             214.4\n",
      "Df Residuals:                            71   BIC:                             230.9\n",
      "Df Model:                                 6                                         \n",
      "Covariance Type:                  nonrobust                                         \n",
      "==============================================================================================\n",
      "                                 coef    std err          t      P>|t|      [0.025      0.975]\n",
      "----------------------------------------------------------------------------------------------\n",
      "const                          0.0565      0.104      0.542      0.590      -0.152       0.265\n",
      "population_density            -0.1604      0.083     -1.944      0.056      -0.325       0.004\n",
      "median_age                     0.2713      0.254      1.070      0.288      -0.234       0.777\n",
      "gdp_per_capita                 0.0750      0.132      0.566      0.573      -0.189       0.339\n",
      "diabetes_prevalence           -0.1769      0.111     -1.593      0.116      -0.398       0.044\n",
      "hospital_beds_per_thousand    -0.3428      0.157     -2.183      0.032      -0.656      -0.030\n",
      "life_expectancy                0.3272      0.209      1.566      0.122      -0.089       0.744\n",
      "==============================================================================\n",
      "Omnibus:                       24.946   Durbin-Watson:                   2.231\n",
      "Prob(Omnibus):                  0.000   Jarque-Bera (JB):               36.547\n",
      "Skew:                           1.356   Prob(JB):                     1.16e-08\n",
      "Kurtosis:                       4.973   Cond. No.                         5.79\n",
      "==============================================================================\n",
      "\n",
      "Warnings:\n",
      "[1] Standard Errors assume that the covariance matrix of the errors is correctly specified.\n"
     ]
    }
   ],
   "source": [
    "# Create and fit linear regression model, print summary\n",
    "X2 = sm.add_constant(X_train)\n",
    "est = sm.OLS(y_train, X2)\n",
    "est2 = est.fit()\n",
    "print(est2.summary())"
   ]
  },
  {
   "cell_type": "markdown",
   "metadata": {},
   "source": [
    "It looks like these 6 variables aren't strong predictors of total deahths per million. This isn't too surprising, since there are many other variables that might predict covid deaths more accurately, such as freedom of the press rating, public acceptance of science, and measures of trust in government, among manay others. A more robust model might incporate these data. "
   ]
  },
  {
   "cell_type": "code",
   "execution_count": null,
   "metadata": {},
   "outputs": [],
   "source": []
  }
 ],
 "metadata": {
  "kernelspec": {
   "display_name": "Python 3",
   "language": "python",
   "name": "python3"
  },
  "language_info": {
   "codemirror_mode": {
    "name": "ipython",
    "version": 3
   },
   "file_extension": ".py",
   "mimetype": "text/x-python",
   "name": "python",
   "nbconvert_exporter": "python",
   "pygments_lexer": "ipython3",
   "version": "3.7.3"
  }
 },
 "nbformat": 4,
 "nbformat_minor": 4
}
