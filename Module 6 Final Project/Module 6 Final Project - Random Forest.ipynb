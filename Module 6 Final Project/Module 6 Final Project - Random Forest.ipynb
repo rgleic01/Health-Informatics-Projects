{
 "cells": [
  {
   "cell_type": "code",
   "execution_count": 2,
   "metadata": {},
   "outputs": [
    {
     "name": "stderr",
     "output_type": "stream",
     "text": [
      "/Users/robgleich/.local/lib/python3.7/site-packages/statsmodels/tools/_testing.py:19: FutureWarning: pandas.util.testing is deprecated. Use the functions in the public API at pandas.testing instead.\n",
      "  import pandas.util.testing as tm\n"
     ]
    },
    {
     "name": "stdout",
     "output_type": "stream",
     "text": [
      "remaining counties:  1312\n",
      "final dataset dimensions:  (1142, 56)\n"
     ]
    }
   ],
   "source": [
    "# Module 6 Final Project- Random Forest\n",
    "# Infant Mortality and Social Determinants\n",
    "# Esther Abend, Rob Gleich, and Catherine Park\n",
    "# March 23, 2020\n",
    "\n",
    "# Use Random Forest regressor model to idnetify and rank feature importance\n",
    "\n",
    "#import libraries for reading data and EDA\n",
    "import numpy as np\n",
    "import pandas as pd\n",
    "import matplotlib.pyplot as plt\n",
    "import seaborn as sns\n",
    "\n",
    "import warnings\n",
    "warnings.simplefilter(action='ignore', category=FutureWarning)\n",
    "\n",
    "chr_19 = pd.read_csv(\"analytic_data2019.csv\", low_memory=False)\n",
    "\n",
    "#drop second row of variable names\n",
    "chr_19 = chr_19.drop([0])\n",
    "\n",
    "# drop all metrics (numerator, denominator, and confidence interval) except raw values \n",
    "for i, col in enumerate(chr_19.columns):\n",
    "    if i < 7: pass\n",
    "    elif col[-5:] != 'value':\n",
    "        chr_19 = chr_19.drop(columns = col)\n",
    "\n",
    "# drop and rename location columns\n",
    "chr_19 = chr_19.drop(columns = ['State FIPS Code', 'County FIPS Code', 'County Ranked (Yes=1/No=0)'])\n",
    "chr_19 = chr_19.rename(columns={\"5-digit FIPS Code\": \"fips\", \"Name\": \"county\", \"Release Year\": \"year\"})\n",
    "\n",
    "# remove the text 'raw values' from column names to make more readable\n",
    "for col in chr_19:\n",
    "    if col[-5:] == 'value':\n",
    "        chr_19 = chr_19.rename(columns={col: col[:-10]})\n",
    "\n",
    "# only keep rows that include infant mortality \n",
    "chr_19 = chr_19[chr_19['Infant mortality'].isna() == False]\n",
    "\n",
    "# print ratio of NA's in each column\n",
    "#for col in chr_19.columns: print(col + \": \" + str(chr_19[col].isna().sum() / len(chr_19[col])))\n",
    "    \n",
    "#drop variables with > 10% NaN\n",
    "chr_19 = chr_19.loc[:, :'% Rural']\n",
    "chr_19 = chr_19.drop(['Homicides', \n",
    "                      'Disconnected youth',\n",
    "                      'Drinking water violations',\n",
    "                      'Drug overdose deaths'], axis=1)\n",
    "\n",
    "chr_19 = chr_19.drop(['fips', 'State Abbreviation', 'county', 'year'], axis=1)\n",
    "\n",
    "chr_19 = chr_19.astype(float)\n",
    "\n",
    "#drop redundant variables\n",
    "chr_19 = chr_19.drop(['Uninsured adults', \n",
    "                     'Premature death', \n",
    "                     'Premature age-adjusted mortality', \n",
    "                     'Frequent mental distress', \n",
    "                     'Poor or fair health', \n",
    "                     'Frequent physical distress', \n",
    "                     'Food insecurity', \n",
    "                     'Poor mental health days', \n",
    "                     'Child mortality', \n",
    "                     'Children in poverty', \n",
    "                     '% not proficient in English', \n",
    "                     'Severe housing problems'], axis=1)\n",
    "\n",
    "print(\"remaining counties: \", len(chr_19))\n",
    "# drop \n",
    "chr_19 = chr_19.dropna()\n",
    "print(\"final dataset dimensions: \", chr_19.shape)\n",
    "\n",
    "chr_19.to_csv('chr_2019.csv')"
   ]
  },
  {
   "cell_type": "code",
   "execution_count": 3,
   "metadata": {},
   "outputs": [
    {
     "name": "stdout",
     "output_type": "stream",
     "text": [
      "Accuracy: 0.54 (+/- 0.20)\n"
     ]
    }
   ],
   "source": [
    "# set X and y and fit random forest regressor\n",
    "\n",
    "from sklearn import ensemble\n",
    "from sklearn.model_selection import cross_val_score\n",
    "from sklearn.preprocessing import StandardScaler\n",
    "\n",
    "y = chr_19['Infant mortality']\n",
    "X = chr_19.drop(['Infant mortality'], axis=1)\n",
    "# X = StandardScaler().fit_transform(X)\n",
    "\n",
    "\n",
    "rfc = ensemble.RandomForestRegressor()\n",
    "forest_scores = cross_val_score(rfc, X, y, cv=10)\n",
    "print(\"Accuracy: %0.2f (+/- %0.2f)\" % (forest_scores.mean(), forest_scores.std() * 2))\n"
   ]
  },
  {
   "cell_type": "code",
   "execution_count": 4,
   "metadata": {},
   "outputs": [
    {
     "name": "stdout",
     "output_type": "stream",
     "text": [
      "Feature ranking:\n",
      "1. Poor physical health days (0.155751)\n",
      "2. Low birthweight (0.109721)\n",
      "3. Adult smoking (0.075388)\n",
      "4. Adult obesity (0.051563)\n",
      "5. Food environment index (0.050607)\n",
      "6. Physical inactivity (0.049114)\n",
      "7. Access to exercise opportunities (0.042136)\n",
      "8. Excessive drinking (0.036617)\n",
      "9. Alcohol-impaired driving deaths (0.032487)\n",
      "10. Sexually transmitted infections (0.022080)\n",
      "11. Teen births (0.021078)\n",
      "12. Uninsured (0.013937)\n",
      "13. Primary care physicians (0.013385)\n",
      "14. Dentists (0.013217)\n",
      "15. Mental health providers (0.012177)\n",
      "16. Preventable hospital stays (0.011007)\n",
      "17. Mammography screening (0.010953)\n",
      "18. Flu vaccinations (0.010725)\n",
      "19. High school graduation (0.010503)\n",
      "20. Some college (0.010229)\n",
      "21. Unemployment (0.008930)\n",
      "22. Income inequality (0.008742)\n",
      "23. Children in single-parent households (0.008706)\n",
      "24. Social associations (0.008700)\n",
      "25. Violent crime (0.008668)\n",
      "26. Injury deaths (0.008496)\n",
      "27. Air pollution - particulate matter (0.008168)\n",
      "28. Driving alone to work (0.008156)\n",
      "29. Long commute - driving alone (0.008080)\n",
      "30. Life expectancy (0.008008)\n",
      "31. Diabetes prevalence (0.007863)\n",
      "32. HIV prevalence (0.007832)\n",
      "33. Limited access to healthy foods (0.007680)\n",
      "34. Motor vehicle crash deaths (0.007244)\n",
      "35. Insufficient sleep (0.007014)\n",
      "36. Uninsured children (0.006978)\n",
      "37. Other primary care providers (0.006920)\n",
      "38. Median household income (0.006899)\n",
      "39. Children eligible for free or reduced price lunch (0.006873)\n",
      "40. Residential segregation - Black/White (0.006853)\n",
      "41. Residential segregation - non-white/white (0.006849)\n",
      "42. Firearm fatalities (0.006754)\n",
      "43. Homeownership (0.006734)\n",
      "44. Severe housing cost burden (0.006628)\n",
      "45. Population (0.006331)\n",
      "46. % below 18 years of age (0.006271)\n",
      "47. % 65 and older (0.006057)\n",
      "48. % Non-Hispanic African American (0.006019)\n",
      "49. % American Indian and Alaskan Native (0.005979)\n",
      "50. % Asian (0.005960)\n",
      "51. % Native Hawaiian/Other Pacific Islander (0.005718)\n",
      "52. % Hispanic (0.005640)\n",
      "53. % Non-Hispanic white (0.005303)\n",
      "54. % Females (0.005290)\n",
      "55. % Rural (0.004984)\n"
     ]
    }
   ],
   "source": [
    "#from sklearn.datasets import make_classification\n",
    "from sklearn.ensemble import ExtraTreesRegressor\n",
    "\n",
    "# Build a forest and compute the feature importances\n",
    "forest = ExtraTreesRegressor(n_estimators=250,\n",
    "                              random_state=0)\n",
    "\n",
    "forest.fit(X, y)\n",
    "importances = forest.feature_importances_\n",
    "std = np.std([tree.feature_importances_ for tree in forest.estimators_],axis=0)\n",
    "indices = np.argsort(importances)[::-1]\n",
    "\n",
    "# Print the feature ranking\n",
    "print(\"Feature ranking:\")\n",
    "\n",
    "for col, f in zip(X.columns, range(X.shape[1])):\n",
    "    print(\"%d. %s (%f)\" % (f + 1, col, importances[indices[f]]))"
   ]
  },
  {
   "cell_type": "code",
   "execution_count": 5,
   "metadata": {},
   "outputs": [
    {
     "data": {
      "image/png": "[encoded data removed]",
      "text/plain": [
       "<Figure size 1440x720 with 1 Axes>"
      ]
     },
     "metadata": {
      "needs_background": "light"
     },
     "output_type": "display_data"
    }
   ],
   "source": [
    "# Plot the feature importances of the forest\n",
    "plt.figure(figsize=(20,10))\n",
    "plt.title(\"Feature importances\")\n",
    "plt.bar(range(X.shape[1]), importances[indices],\n",
    "       color=\"r\", yerr=std[indices], align=\"center\")\n",
    "plt.xticks(range(X.shape[1]), indices, rotation=90)\n",
    "plt.xlim([-1, X.shape[1]])\n",
    "plt.show()"
   ]
  },
  {
   "cell_type": "code",
   "execution_count": 6,
   "metadata": {},
   "outputs": [
    {
     "name": "stdout",
     "output_type": "stream",
     "text": [
      "Accuracy: 0.45 (+/- 0.25)\n"
     ]
    }
   ],
   "source": [
    "# Top 10 Variables:\n",
    "\n",
    "X_2 = chr_19[['Life expectancy', 'Low birthweight', \n",
    "              'Children in single-parent households', \n",
    "              '% 65 and older', 'Adult obesity', \n",
    "              'Adult smoking', 'Social associations', \n",
    "              'Other primary care providers', \n",
    "              'Physical inactivity', 'Teen births']]\n",
    "\n",
    "forest_scores = cross_val_score(rfc, X_2, y, cv=10)\n",
    "print(\"Accuracy: %0.2f (+/- %0.2f)\" % (forest_scores.mean(), forest_scores.std() * 2))"
   ]
  },
  {
   "cell_type": "code",
   "execution_count": 7,
   "metadata": {},
   "outputs": [
    {
     "name": "stdout",
     "output_type": "stream",
     "text": [
      "Feature ranking:\n",
      "1. Life expectancy (0.221673)\n",
      "2. Low birthweight (0.200068)\n",
      "3. Children in single-parent households (0.124276)\n",
      "4. % 65 and older (0.087034)\n",
      "5. Adult obesity (0.084682)\n",
      "6. Adult smoking (0.077539)\n",
      "7. Social associations (0.069088)\n",
      "8. Other primary care providers (0.058084)\n",
      "9. Physical inactivity (0.043625)\n",
      "10. Teen births (0.033931)\n"
     ]
    }
   ],
   "source": [
    "# Build a forest and compute the feature importances\n",
    "forest = ExtraTreesRegressor(n_estimators=250,\n",
    "                              random_state=0)\n",
    "\n",
    "forest.fit(X_2, y)\n",
    "importances = forest.feature_importances_\n",
    "std = np.std([tree.feature_importances_ for tree in forest.estimators_],axis=0)\n",
    "indices = np.argsort(importances)[::-1]\n",
    "\n",
    "# Print the feature ranking\n",
    "print(\"Feature ranking:\")\n",
    "\n",
    "for col, f in zip(X_2.columns, range(X.shape[1])):\n",
    "    print(\"%d. %s (%f)\" % (f + 1, col, importances[indices[f]]))"
   ]
  },
  {
   "cell_type": "code",
   "execution_count": 15,
   "metadata": {},
   "outputs": [
    {
     "data": {
      "image/png": "[encoded data removed]",
      "text/plain": [
       "<Figure size 864x576 with 1 Axes>"
      ]
     },
     "metadata": {
      "needs_background": "light"
     },
     "output_type": "display_data"
    }
   ],
   "source": [
    "# Plot the feature importances of the forest\n",
    "plt.figure(figsize=(12,8))\n",
    "plt.title(\"Random Forest Feature Importances\")\n",
    "\n",
    "feature_list = ['Life expectancy', 'Low birthweight', \n",
    "              'Single-parent households', \n",
    "              '% 65 and older', 'Adult obesity', \n",
    "              'Adult smoking', 'Social associations', \n",
    "              'Other primary care providers', \n",
    "              'Physical inactivity', 'Teen births']\n",
    "\n",
    "plt.bar(range(X_2.shape[1]), importances[indices], \n",
    "        yerr=std[indices], align=\"center\")\n",
    "plt.xticks(range(X_2.shape[1]), feature_list, rotation=60)\n",
    "plt.xlim([-1, X_2.shape[1]])\n",
    "plt.show()"
   ]
  },
  {
   "cell_type": "code",
   "execution_count": null,
   "metadata": {},
   "outputs": [],
   "source": []
  }
 ],
 "metadata": {
  "kernelspec": {
   "display_name": "Python 3",
   "language": "python",
   "name": "python3"
  },
  "language_info": {
   "codemirror_mode": {
    "name": "ipython",
    "version": 3
   },
   "file_extension": ".py",
   "mimetype": "text/x-python",
   "name": "python",
   "nbconvert_exporter": "python",
   "pygments_lexer": "ipython3",
   "version": "3.7.2"
  }
 },
 "nbformat": 4,
 "nbformat_minor": 2
}
